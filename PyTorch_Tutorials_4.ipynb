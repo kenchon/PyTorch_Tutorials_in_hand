{
 "cells": [
  {
   "cell_type": "markdown",
   "metadata": {},
   "source": [
    "# 分類器の学習\n",
    "\n",
    "これまで，ニューラルネットワークの定義の仕方，損失の計算，パラメータの更新についてざっくりみてきました。\n",
    "\n",
    "ここまできたら，次に考えるべきことは：\n",
    "\n",
    "## 何のデータを取り扱うの？\n",
    "\n",
    "一般に，画像，テキスト，音声，ビデオなどのデータを処理するとき，それらに対応したPythonの標準的なパッケージを使って`numpy`配列にデータを読み込むことができます。そしてこのnumpy配列を`torch.*Tensor`に変換することができます。\n",
    "\n",
    "扱うデータによって，下記のようなパッケージがあります：\n",
    "\n",
    "- 画像：Pillow, OpenCV\n",
    "- 音声：scipy, librosa\n",
    "- テキスト：NLTK, SpaCy\n",
    "\n",
    "画像に関して，`vision`というパッケージがありますが，これを`torchvision`としてPyTorchチームは新しく作り変えました。これによって，ImageNetやCIFAR10，MNISTなどの標準となっているデータセットを読み込んだり，データ変換などの機能を持ちます。これらは，`torchvision.datasets`，`torch.utils.data.DataLoader`に入っています。\n",
    "\n",
    "`torchvision`にはこうした高次の実装が行われているので，新しくコードを書く必要がなく，とても便利です。\n",
    "\n",
    "このチュートリアルでは，CIFAR10データセットを使います。\n",
    "\n",
    "CIFAR10には，下記の10クラスがあります：\n",
    "```\n",
    "‘airplane’, ‘automobile’, ‘bird’, ‘cat’, ‘deer’, ‘dog’, ‘frog’, ‘horse’, ‘ship’, ‘truck'\n",
    "```\n",
    "\n",
    "CIFAR10に含まれる画像サイズは 3x32x32 つまり，3つのカラーチャンネルを持つ32x32のピクセルからなります。\n",
    "\n",
    "![http://pytorch.org/tutorials/_images/cifar10.png](http://pytorch.org/tutorials/_images/cifar10.png)\n",
    "cifar10\n",
    "\n",
    "## 画像分類器の学習\n",
    "\n",
    "CIFAR10を用いた画像分類器の訓練のために，下記の工程を順に行います。\n",
    "\n",
    "- 1. 学習用画像とテスト用画像を読み込み，正規化する。このとき，`torchvision`を使う。\n",
    "- 2. 畳み込みニューラルネットワークを定義する。\n",
    "- 3. 損失関数を定義する。\n",
    "- 4. 学習用画像を用いて学習する。\n",
    "- 5. テスト用画像を用いてテストする。\n",
    "\n",
    "### 1. CIFAR10の読み込みと正規化\n",
    "\n",
    "`torchvision`を使えば，CIFAR10の読み込みはとても簡単にできます。"
   ]
  },
  {
   "cell_type": "code",
   "execution_count": 1,
   "metadata": {},
   "outputs": [],
   "source": [
    "import torch\n",
    "import torchvision\n",
    "import torchvision.transforms as transforms"
   ]
  },
  {
   "cell_type": "markdown",
   "metadata": {},
   "source": [
    "torchvision に含まれるデータセットはPILImageで，$[0,1]$のレンジを持ちます。これを，$[-1,1]$に正規化したテンソルに変換します。"
   ]
  },
  {
   "cell_type": "code",
   "execution_count": 4,
   "metadata": {},
   "outputs": [
    {
     "name": "stdout",
     "output_type": "stream",
     "text": [
      "Files already downloaded and verified\n",
      "Files already downloaded and verified\n"
     ]
    }
   ],
   "source": [
    "transform = transforms.Compose(\n",
    "    [transforms.ToTensor(),\n",
    "     transforms.Normalize((0.5, 0.5, 0.5), (0.5, 0.5, 0.5))])\n",
    "\n",
    "trainset = torchvision.datasets.CIFAR10(root='./data', train=True,\n",
    "                                        download=True, transform=transform)\n",
    "trainloader = torch.utils.data.DataLoader(trainset, batch_size=4,\n",
    "                                          shuffle=True, num_workers=2)\n",
    "\n",
    "testset = torchvision.datasets.CIFAR10(root='./data', train=False,\n",
    "                                       download=True, transform=transform)\n",
    "testloader = torch.utils.data.DataLoader(testset, batch_size=4,\n",
    "                                         shuffle=False, num_workers=2)\n",
    "\n",
    "classes = ('plane', 'car', 'bird', 'cat',\n",
    "           'deer', 'dog', 'frog', 'horse', 'ship', 'truck')"
   ]
  },
  {
   "cell_type": "markdown",
   "metadata": {},
   "source": [
    "試しに，データセットに含まれている画像がどんなものなのか見てみましょう。"
   ]
  },
  {
   "cell_type": "code",
   "execution_count": 5,
   "metadata": {},
   "outputs": [
    {
     "name": "stdout",
     "output_type": "stream",
     "text": [
      " deer  bird plane truck\n"
     ]
    },
    {
     "data": {
      "image/png": "[encoded data removed]",
      "text/plain": [
       "<matplotlib.figure.Figure at 0x7f4d57c78048>"
      ]
     },
     "metadata": {},
     "output_type": "display_data"
    }
   ],
   "source": [
    "import matplotlib.pyplot as plt\n",
    "import numpy as np\n",
    "\n",
    "# functions to show an image\n",
    "\n",
    "\n",
    "def imshow(img):\n",
    "    img = img / 2 + 0.5     # unnormalize\n",
    "    npimg = img.numpy()\n",
    "    plt.imshow(np.transpose(npimg, (1, 2, 0)))\n",
    "\n",
    "\n",
    "# get some random training images\n",
    "dataiter = iter(trainloader)\n",
    "images, labels = dataiter.next()\n",
    "\n",
    "# show images\n",
    "imshow(torchvision.utils.make_grid(images))\n",
    "# print labels\n",
    "print(' '.join('%5s' % classes[labels[j]] for j in range(4)))"
   ]
  },
  {
   "cell_type": "markdown",
   "metadata": {},
   "source": [
    "### 2. 畳み込みニューラルネットワークを定義する"
   ]
  },
  {
   "cell_type": "code",
   "execution_count": null,
   "metadata": {},
   "outputs": [],
   "source": []
  }
 ],
 "metadata": {
  "kernelspec": {
   "display_name": "Python 3",
   "language": "python",
   "name": "python3"
  },
  "language_info": {
   "codemirror_mode": {
    "name": "ipython",
    "version": 3
   },
   "file_extension": ".py",
   "mimetype": "text/x-python",
   "name": "python",
   "nbconvert_exporter": "python",
   "pygments_lexer": "ipython3",
   "version": "3.6.3"
  }
 },
 "nbformat": 4,
 "nbformat_minor": 2
}
